{
  "cells": [
    {
      "cell_type": "markdown",
      "id": "b4fcbbf9",
      "metadata": {
        "id": "b4fcbbf9"
      },
      "source": [
        "# Phase 3 - Vehicle Classification\n",
        "\n",
        "This is an open ended phase. You must build a classifier for the Stanford Cars Dataset. You can use any techniques and knowledge from Phase 1 & 2 to aid you. The ultimate goal is to get as good performance as you can on the test set.\n",
        "\n",
        "Please follow TA instructions in lab to learn how to access the data.\n",
        "\n",
        "**Note**: You will need to achieve more than 80% accuracy on the test set to receive credit for Phase 3!"
      ]
    },
    {
      "cell_type": "code",
      "source": [
        "from google.colab import drive\n",
        "drive.mount('/content/drive')"
      ],
      "metadata": {
        "id": "Z1pTNI4irl6b",
        "colab": {
          "base_uri": "https://localhost:8080/"
        },
        "outputId": "21342687-3dbe-4cd4-e99a-f528d3078e64"
      },
      "id": "Z1pTNI4irl6b",
      "execution_count": 1,
      "outputs": [
        {
          "output_type": "stream",
          "name": "stdout",
          "text": [
            "Mounted at /content/drive\n"
          ]
        }
      ]
    },
    {
      "cell_type": "markdown",
      "id": "1db58858",
      "metadata": {
        "id": "1db58858"
      },
      "source": [
        "# Imports\n",
        "\n",
        "Import all the libraries you need for your project"
      ]
    },
    {
      "cell_type": "code",
      "execution_count": 2,
      "id": "973648bc",
      "metadata": {
        "id": "973648bc"
      },
      "outputs": [],
      "source": [
        "import torch\n",
        "import torch.nn as nn\n",
        "import torchvision.models as models\n",
        "import torchvision.datasets as datasets\n",
        "import torchvision.transforms.v2 as v2\n",
        "import torchvision.utils as utils\n",
        "import pandas as pd\n",
        "import time\n",
        "import os\n",
        "import copy\n",
        "from sklearn.metrics import confusion_matrix, ConfusionMatrixDisplay\n",
        "from skimage import io, transform\n",
        "\n",
        "import matplotlib.pyplot as plt\n",
        "import numpy as np"
      ]
    },
    {
      "cell_type": "markdown",
      "id": "60b0e403",
      "metadata": {
        "id": "60b0e403"
      },
      "source": [
        "## 1) Load Dataset\n",
        "The Stanford Dataset is not provided in ```torchvision.datasets```. You will need to create your inherit from ```Dataset``` class to load the dataset and overload the ```___init__()```, ```__len__()```, and ```__getitem__()``` functions.\n",
        "\n",
        "You will find the following link useful to help create the dataset class: https://pytorch.org/tutorials/beginner/data_loading_tutorial.html\n",
        "\n",
        "If you wish, you can create another method in the class: ```visualize()``` to help visualize the data. This is optional and will not be graded"
      ]
    },
    {
      "cell_type": "code",
      "execution_count": 3,
      "id": "9f3d9953",
      "metadata": {
        "id": "9f3d9953"
      },
      "outputs": [],
      "source": [
        "class CarDataSet(torch.utils.data.Dataset):\n",
        "\n",
        "    def __init__(self, csv_file, root_dir, transform=None):\n",
        "        self.car_images = pd.read_csv(csv_file, header=None)\n",
        "        self.root_dir = root_dir\n",
        "        self.transform = transform\n",
        "\n",
        "    def __len__(self):\n",
        "        return len(self.car_images)\n",
        "\n",
        "    def __getitem__(self, idx):\n",
        "        if torch.is_tensor(idx):\n",
        "            idx = idx.tolist()\n",
        "\n",
        "        img_name = os.path.join(self.root_dir,\n",
        "                                self.car_images.iloc[idx, 0])\n",
        "        image = io.imread(img_name)\n",
        "        label = self.car_images.iloc[idx, 5]\n",
        "\n",
        "        if self.transform:\n",
        "            image = self.transform(image)\n",
        "        sample = [image, label]\n",
        "        return sample"
      ]
    },
    {
      "cell_type": "code",
      "source": [
        "train_tfms = v2.Compose([v2.ToImage(), v2.ToDtype(torch.float32, scale=True),\n",
        "                         v2.Resize((220, 220)),\n",
        "                         v2.RandomHorizontalFlip(),\n",
        "                         v2.RandomRotation(15),\n",
        "                         v2.Normalize((0.5, 0.5, 0.5), (0.5, 0.5, 0.5))])\n",
        "train_data = CarDataSet(csv_file=\"/content/drive/MyDrive/EEC 174 Lab3/stanford_cars_eec174/train_make.csv\",\n",
        "                        root_dir=\"/content/drive/MyDrive/EEC 174 Lab3/stanford_cars_eec174/images/train\",\n",
        "                        transform=train_tfms)\n",
        "for i, data in enumerate(train_data):\n",
        "    print(i, data[0].shape, data[1])\n",
        "\n",
        "    ax = plt.subplot(1, 11, i + 1)\n",
        "    plt.imshow(data[0][2])\n",
        "    plt.title(data[1])\n",
        "    plt.show()\n",
        "\n",
        "    if i == 10:\n",
        "\n",
        "        break"
      ],
      "metadata": {
        "id": "nTJH_rdwZlB1",
        "colab": {
          "base_uri": "https://localhost:8080/",
          "height": 1000
        },
        "outputId": "1191df0e-5045-452d-dd29-1b8206995325"
      },
      "id": "nTJH_rdwZlB1",
      "execution_count": 4,
      "outputs": [
        {
          "output_type": "stream",
          "name": "stderr",
          "text": [
            "/usr/local/lib/python3.10/dist-packages/torchvision/transforms/functional.py:1603: UserWarning: The default value of the antialias parameter of all the resizing transforms (Resize(), RandomResizedCrop(), etc.) will change from None to True in v0.17, in order to be consistent across the PIL and Tensor backends. To suppress this warning, directly pass antialias=True (recommended, future default), antialias=None (current default, which means False for Tensors and True for PIL), or antialias=False (only works on Tensors - PIL will still use antialiasing). This also applies if you are using the inference transforms from the models weights: update the call to weights.transforms(antialias=True).\n",
            "  warnings.warn(\n"
          ]
        },
        {
          "output_type": "stream",
          "name": "stdout",
          "text": [
            "0 torch.Size([3, 220, 220]) 4\n"
          ]
        },
        {
          "output_type": "display_data",
          "data": {
            "text/plain": [
              "<Figure size 640x480 with 1 Axes>"
            ],
            "image/png": "[encoded data removed]"
          },
          "metadata": {}
        },
        {
          "output_type": "stream",
          "name": "stdout",
          "text": [
            "1 torch.Size([3, 220, 220]) 2\n"
          ]
        },
        {
          "output_type": "display_data",
          "data": {
            "text/plain": [
              "<Figure size 640x480 with 1 Axes>"
            ],
            "image/png": "[encoded data removed]"
          },
          "metadata": {}
        },
        {
          "output_type": "stream",
          "name": "stdout",
          "text": [
            "2 torch.Size([3, 220, 220]) 13\n"
          ]
        },
        {
          "output_type": "display_data",
          "data": {
            "text/plain": [
              "<Figure size 640x480 with 1 Axes>"
            ],
            "image/png": "[encoded data removed]"
          },
          "metadata": {}
        },
        {
          "output_type": "stream",
          "name": "stdout",
          "text": [
            "3 torch.Size([3, 220, 220]) 23\n"
          ]
        },
        {
          "output_type": "display_data",
          "data": {
            "text/plain": [
              "<Figure size 640x480 with 1 Axes>"
            ],
            "image/png": "[encoded data removed]"
          },
          "metadata": {}
        },
        {
          "output_type": "stream",
          "name": "stdout",
          "text": [
            "4 torch.Size([3, 220, 220]) 18\n"
          ]
        },
        {
          "output_type": "display_data",
          "data": {
            "text/plain": [
              "<Figure size 640x480 with 1 Axes>"
            ],
            "image/png": "[encoded data removed]"
          },
          "metadata": {}
        },
        {
          "output_type": "stream",
          "name": "stdout",
          "text": [
            "5 torch.Size([3, 220, 220]) 20\n"
          ]
        },
        {
          "output_type": "display_data",
          "data": {
            "text/plain": [
              "<Figure size 640x480 with 1 Axes>"
            ],
            "image/png": "[encoded data removed]"
          },
          "metadata": {}
        },
        {
          "output_type": "stream",
          "name": "stdout",
          "text": [
            "6 torch.Size([3, 220, 220]) 13\n"
          ]
        },
        {
          "output_type": "display_data",
          "data": {
            "text/plain": [
              "<Figure size 640x480 with 1 Axes>"
            ],
            "image/png": "[encoded data removed]"
          },
          "metadata": {}
        },
        {
          "output_type": "stream",
          "name": "stdout",
          "text": [
            "7 torch.Size([3, 220, 220]) 13\n"
          ]
        },
        {
          "output_type": "display_data",
          "data": {
            "text/plain": [
              "<Figure size 640x480 with 1 Axes>"
            ],
            "image/png": "[encoded data removed]"
          },
          "metadata": {}
        },
        {
          "output_type": "stream",
          "name": "stdout",
          "text": [
            "8 torch.Size([3, 220, 220]) 36\n"
          ]
        },
        {
          "output_type": "display_data",
          "data": {
            "text/plain": [
              "<Figure size 640x480 with 1 Axes>"
            ],
            "image/png": "[encoded data removed]"
          },
          "metadata": {}
        },
        {
          "output_type": "stream",
          "name": "stdout",
          "text": [
            "9 torch.Size([3, 220, 220]) 10\n"
          ]
        },
        {
          "output_type": "display_data",
          "data": {
            "text/plain": [
              "<Figure size 640x480 with 1 Axes>"
            ],
            "image/png": "[encoded data removed]"
          },
          "metadata": {}
        },
        {
          "output_type": "stream",
          "name": "stdout",
          "text": [
            "10 torch.Size([3, 220, 220]) 8\n"
          ]
        },
        {
          "output_type": "display_data",
          "data": {
            "text/plain": [
              "<Figure size 640x480 with 1 Axes>"
            ],
            "image/png": "[encoded data removed]"
          },
          "metadata": {}
        }
      ]
    },
    {
      "cell_type": "code",
      "execution_count": 5,
      "id": "a029cc2d",
      "metadata": {
        "id": "a029cc2d",
        "colab": {
          "base_uri": "https://localhost:8080/"
        },
        "outputId": "c14c96d4-89d5-4480-bd01-b5ad62a5e21c"
      },
      "outputs": [
        {
          "output_type": "stream",
          "name": "stderr",
          "text": [
            "/usr/local/lib/python3.10/dist-packages/torchvision/transforms/v2/_deprecated.py:43: UserWarning: The transform `ToTensor()` is deprecated and will be removed in a future release. Instead, please use `v2.Compose([v2.ToImage(), v2.ToDtype(torch.float32, scale=True)])`.\n",
            "  warnings.warn(\n"
          ]
        }
      ],
      "source": [
        "# Apply Data transform\n",
        "# https://www.kaggle.com/code/deepbear/pytorch-car-classifier-90-accuracy\n",
        "train_tfms = v2.Compose([v2.ToTensor(),\n",
        "                         v2.Resize((200, 200)),\n",
        "                         v2.RandomHorizontalFlip(),\n",
        "                         v2.RandomRotation(15),\n",
        "                         v2.Normalize((0.5, 0.5, 0.5), (0.5, 0.5, 0.5))])\n",
        "test_tfms = v2.Compose([v2.ToTensor(),\n",
        "                        v2.Resize((200, 200)),\n",
        "                        v2.Normalize((0.5, 0.5, 0.5), (0.5, 0.5, 0.5))])\n",
        "\n",
        "# Load the Data\n",
        "train_data = CarDataSet(csv_file=\"/content/drive/MyDrive/EEC 174 Lab3/stanford_cars_eec174/train_make.csv\",\n",
        "                        root_dir=\"/content/drive/MyDrive/EEC 174 Lab3/stanford_cars_eec174/images/train\",\n",
        "                        transform=train_tfms)\n",
        "test_data = CarDataSet(csv_file=\"/content/drive/MyDrive/EEC 174 Lab3/stanford_cars_eec174/val_make.csv\",\n",
        "                       root_dir=\"/content/drive/MyDrive/EEC 174 Lab3/stanford_cars_eec174/images/val\",\n",
        "                       transform=test_tfms)\n",
        "batch_size = 16\n",
        "\n",
        "# Import to Dataloaders\n",
        "train_loader = torch.utils.data.DataLoader(dataset = train_data,\n",
        "                                           batch_size = batch_size,\n",
        "                                           shuffle = True,\n",
        "                                           num_workers=2)\n",
        "\n",
        "test_loader = torch.utils.data.DataLoader(dataset = test_data,\n",
        "                                          batch_size = batch_size,\n",
        "                                          shuffle = True,\n",
        "                                          num_workers=2)\n",
        "\n",
        "labels = open(\"/content/drive/MyDrive/EEC 174 Lab3/stanford_cars_eec174/names_make.txt\", 'r').read().split('\\n')"
      ]
    },
    {
      "cell_type": "markdown",
      "id": "ad2acc24",
      "metadata": {
        "id": "ad2acc24"
      },
      "source": [
        "## 2) Define your Model Architecture\n",
        "\n",
        "It is up to you to decide which model you use. You can create yor own CNN or use transfer learning."
      ]
    },
    {
      "cell_type": "code",
      "execution_count": 10,
      "id": "ed0019e8",
      "metadata": {
        "id": "ed0019e8",
        "colab": {
          "base_uri": "https://localhost:8080/"
        },
        "outputId": "ebba1286-3e3c-4cbb-9df0-ca9db401e6ed"
      },
      "outputs": [
        {
          "output_type": "stream",
          "name": "stdout",
          "text": [
            "VeryLargeWidthCNN(\n",
            "  (layer1): Sequential(\n",
            "    (0): Conv2d(3, 128, kernel_size=(3, 3), stride=(1, 1), padding=(1, 1))\n",
            "    (1): ReLU()\n",
            "    (2): MaxPool2d(kernel_size=2, stride=2, padding=0, dilation=1, ceil_mode=False)\n",
            "  )\n",
            "  (layer2): Sequential(\n",
            "    (0): Conv2d(128, 128, kernel_size=(3, 3), stride=(1, 1))\n",
            "    (1): ReLU()\n",
            "    (2): MaxPool2d(kernel_size=2, stride=2, padding=0, dilation=1, ceil_mode=False)\n",
            "  )\n",
            "  (layer3): Sequential(\n",
            "    (0): Conv2d(128, 128, kernel_size=(3, 3), stride=(1, 1))\n",
            "    (1): ReLU()\n",
            "    (2): MaxPool2d(kernel_size=2, stride=2, padding=0, dilation=1, ceil_mode=False)\n",
            "  )\n",
            "  (fc1): Linear(in_features=67712, out_features=1000, bias=True)\n",
            "  (fc2): Linear(in_features=1000, out_features=50, bias=True)\n",
            ")\n"
          ]
        }
      ],
      "source": [
        "# Model definition\n",
        "import torch\n",
        "import torch.nn as nn\n",
        "\n",
        "class VeryLargeWidthCNN(nn.Module):\n",
        "    def __init__(self):\n",
        "        super(VeryLargeWidthCNN, self).__init__()\n",
        "        self.layer1 = nn.Sequential(\n",
        "            nn.Conv2d(in_channels=3, out_channels=128, kernel_size=3, padding=1),\n",
        "            nn.ReLU(),\n",
        "            nn.MaxPool2d(kernel_size=2)\n",
        "        )\n",
        "        self.layer2 = nn.Sequential(\n",
        "            nn.Conv2d(in_channels=128, out_channels=128, kernel_size=3),\n",
        "            nn.ReLU(),\n",
        "            nn.MaxPool2d(2)\n",
        "        )\n",
        "        self.layer3 = nn.Sequential(\n",
        "            nn.Conv2d(in_channels=128, out_channels=128, kernel_size=3),\n",
        "            nn.ReLU(),\n",
        "            nn.MaxPool2d(2)\n",
        "        )\n",
        "        # Assuming the input image size is 200x200, the feature map size would be 22x22 at this point\n",
        "        self.fc1 = nn.Linear(in_features=67712, out_features=1000)\n",
        "        self.fc2 = nn.Linear(in_features=1000, out_features=50)  # 10 classes for output\n",
        "\n",
        "    def forward(self, x):\n",
        "        out = self.layer1(x)\n",
        "        out = self.layer2(out)\n",
        "        out = self.layer3(out)\n",
        "        out = out.view(out.size(0), -1)  # Flatten the output for fully connected layer\n",
        "        out = self.fc1(out)\n",
        "        out = self.fc2(out)\n",
        "        return out\n",
        "\n",
        "# Instantiate the model\n",
        "\n",
        "\n",
        "very_large_width_cnn = VeryLargeWidthCNN()\n",
        "\n",
        "# Move the model to GPU if available, else to CPU\n",
        "device = torch.device('cuda:0' if torch.cuda.is_available() else 'cpu')\n",
        "very_large_width_cnn.to(device)\n",
        "\n",
        "# Print the model architecture\n",
        "print(very_large_width_cnn)\n"
      ]
    },
    {
      "cell_type": "markdown",
      "id": "bfa8640d",
      "metadata": {
        "id": "bfa8640d"
      },
      "source": [
        "## 3) Define Loss function and Optimizer\n",
        "\n",
        "You chose the loss function and optimizer."
      ]
    },
    {
      "cell_type": "code",
      "execution_count": 11,
      "id": "79721682",
      "metadata": {
        "id": "79721682"
      },
      "outputs": [],
      "source": [
        "num_classes = len(labels)\n",
        "num_epochs = 15\n",
        "lr = 1e-3\n",
        "\n",
        "# Loss Function\n",
        "loss_function = nn.CrossEntropyLoss()\n",
        "optimizer = torch.optim.Adam(very_large_width_cnn.parameters(), lr=lr)  # Replace efficientnet_.parameters() with very_large_width_cnn.parameters()\n",
        "\n"
      ]
    },
    {
      "cell_type": "markdown",
      "id": "79da9193",
      "metadata": {
        "id": "79da9193"
      },
      "source": [
        "## 4) Train your Network"
      ]
    },
    {
      "cell_type": "code",
      "source": [
        "def test_accuracy(model, test_loader, device):\n",
        "    model.to(device)\n",
        "    correct = 0\n",
        "    total = 0\n",
        "    losses = []\n",
        "    with torch.no_grad():\n",
        "        for test_data in test_loader:\n",
        "            images, labels = test_data[0].cuda(), test_data[1].cuda()\n",
        "            outputs = model(images)\n",
        "            _, predicted = torch.max(outputs.data, 1)\n",
        "            total += labels.size(0)\n",
        "            correct += (predicted == labels).sum().item()\n",
        "\n",
        "    return (100 * correct / total)\n",
        "\n",
        "def partial_test_accuracy(model, test_loader, device, loss_fn):\n",
        "    model.to(device)\n",
        "    correct = 0\n",
        "    total = 0\n",
        "    losses = []\n",
        "    with torch.no_grad():\n",
        "        i = 0\n",
        "        for test_data in test_loader:\n",
        "            images, labels = test_data[0].cuda(), test_data[1].cuda()\n",
        "            outputs = model(images)\n",
        "            _, predicted = torch.max(outputs.data, 1)\n",
        "            total += labels.size(0)\n",
        "            correct += (predicted == labels).sum().item()\n",
        "\n",
        "            loss = loss_fn(outputs, labels)\n",
        "            losses.append(loss.item())\n",
        "            i += 1\n",
        "            if i % 100 == 0:\n",
        "                break\n",
        "    return (100 * correct / total), sum(losses) / len(losses)\n",
        "\n",
        "def train(model, loss_fn, optimizer, train_loader, test_loader, batch_size, num_epochs, device):\n",
        "    losses = []\n",
        "    train_accs = []\n",
        "    test_accs = []\n",
        "    val_losses = []\n",
        "\n",
        "    epoch_loss = []\n",
        "    start_time = time.time()\n",
        "    for epoch in range(num_epochs):\n",
        "        # Iterate through the training dataset\n",
        "        for i, data in enumerate(train_loader, 0):\n",
        "            # Load images and labels and move them to the device\n",
        "            images, labels = data[0].to(device), data[1].to(device)\n",
        "            # Zero out any gradients\n",
        "            optimizer.zero_grad()\n",
        "\n",
        "            # Forward pass\n",
        "            outputs = model(images)\n",
        "\n",
        "            # Calculate the loss\n",
        "            loss = loss_fn(outputs, labels)\n",
        "\n",
        "            # Backward pass\n",
        "            loss.backward()\n",
        "\n",
        "            # Update model parameters\n",
        "            optimizer.step()\n",
        "\n",
        "            # Print statistics every 100 iterations\n",
        "            epoch_loss.append(loss.item())\n",
        "            if (i+1) % 50 == 0:\n",
        "                print(f\"Step: [{i+1}/{len(train_loader)}]\")\n",
        "\n",
        "\n",
        "        end_time = time.time()\n",
        "        loss = sum(epoch_loss) / len(epoch_loss)\n",
        "        train_acc, _ = partial_test_accuracy(model, train_loader, device, loss_fn)\n",
        "        test_acc, val_loss = partial_test_accuracy(model, test_loader, device, loss_fn)\n",
        "        losses.append(loss)\n",
        "        val_losses.append(val_loss)\n",
        "        train_accs.append(train_acc)\n",
        "        test_accs.append(test_acc)\n",
        "\n",
        "        print('Epoch [{}/{}], Loss: {:.4f}, Val Loss: {:.4f}, Train Accuracy: {:.4f}, Test Accuracy: {:.4f}, Runtime: {:.4f} s'\n",
        "                        .format(epoch+1, num_epochs, loss, val_loss, train_acc, test_acc, end_time - start_time))\n",
        "\n",
        "        epoch_loss = []\n",
        "        start_time = time.time()\n",
        "\n",
        "        epoch_axis = np.linspace(0, epoch, len(losses))\n",
        "        plot_learning_curve(epoch_axis, losses, val_losses, train_accs, test_accs, title=f\"Epoch {epoch+1}\")\n",
        "    return losses, val_losses, train_accs, test_accs\n",
        "\n",
        "def plot_learning_curve(epochs, losses, val_losses, train_accs, test_accs, title=''):\n",
        "    plt.plot(epochs, losses, label=\"Train Loss\")\n",
        "    plt.plot(epochs, val_losses, label=\"Test Loss\")\n",
        "    plt.xlabel(\"Epochs\")\n",
        "    plt.ylabel(\"Loss\")\n",
        "    plt.title(title + \" Loss\")\n",
        "    plt.legend()\n",
        "    plt.show()\n",
        "\n",
        "    plt.plot(epochs, train_accs, label=\"Train Accuracy\")\n",
        "    plt.plot(epochs, test_accs, label=\"Test Accuracy\")\n",
        "    plt.xlabel(\"Epochs\")\n",
        "    plt.ylabel(\"Accuracy\")\n",
        "    plt.title(title + \" Accuracies\")\n",
        "    plt.legend()\n",
        "    plt.show()"
      ],
      "metadata": {
        "id": "uoCuYNIbNeXY"
      },
      "id": "uoCuYNIbNeXY",
      "execution_count": 12,
      "outputs": []
    },
    {
      "cell_type": "code",
      "execution_count": 13,
      "id": "69ad54c7",
      "metadata": {
        "id": "69ad54c7",
        "colab": {
          "base_uri": "https://localhost:8080/",
          "height": 724
        },
        "outputId": "70ee30cc-cd23-4a9f-e1cc-0c65417fd9a1"
      },
      "outputs": [
        {
          "output_type": "stream",
          "name": "stderr",
          "text": [
            "/usr/local/lib/python3.10/dist-packages/torchvision/transforms/functional.py:1603: UserWarning: The default value of the antialias parameter of all the resizing transforms (Resize(), RandomResizedCrop(), etc.) will change from None to True in v0.17, in order to be consistent across the PIL and Tensor backends. To suppress this warning, directly pass antialias=True (recommended, future default), antialias=None (current default, which means False for Tensors and True for PIL), or antialias=False (only works on Tensors - PIL will still use antialiasing). This also applies if you are using the inference transforms from the models weights: update the call to weights.transforms(antialias=True).\n",
            "  warnings.warn(\n",
            "/usr/local/lib/python3.10/dist-packages/torchvision/transforms/functional.py:1603: UserWarning: The default value of the antialias parameter of all the resizing transforms (Resize(), RandomResizedCrop(), etc.) will change from None to True in v0.17, in order to be consistent across the PIL and Tensor backends. To suppress this warning, directly pass antialias=True (recommended, future default), antialias=None (current default, which means False for Tensors and True for PIL), or antialias=False (only works on Tensors - PIL will still use antialiasing). This also applies if you are using the inference transforms from the models weights: update the call to weights.transforms(antialias=True).\n",
            "  warnings.warn(\n"
          ]
        },
        {
          "output_type": "stream",
          "name": "stdout",
          "text": [
            "Step: [50/509]\n",
            "Step: [100/509]\n",
            "Step: [150/509]\n",
            "Step: [200/509]\n",
            "Step: [250/509]\n",
            "Step: [300/509]\n",
            "Step: [350/509]\n",
            "Step: [400/509]\n",
            "Step: [450/509]\n",
            "Step: [500/509]\n"
          ]
        },
        {
          "output_type": "stream",
          "name": "stderr",
          "text": [
            "/usr/local/lib/python3.10/dist-packages/torchvision/transforms/functional.py:1603: UserWarning: The default value of the antialias parameter of all the resizing transforms (Resize(), RandomResizedCrop(), etc.) will change from None to True in v0.17, in order to be consistent across the PIL and Tensor backends. To suppress this warning, directly pass antialias=True (recommended, future default), antialias=None (current default, which means False for Tensors and True for PIL), or antialias=False (only works on Tensors - PIL will still use antialiasing). This also applies if you are using the inference transforms from the models weights: update the call to weights.transforms(antialias=True).\n",
            "  warnings.warn(\n",
            "/usr/local/lib/python3.10/dist-packages/torchvision/transforms/functional.py:1603: UserWarning: The default value of the antialias parameter of all the resizing transforms (Resize(), RandomResizedCrop(), etc.) will change from None to True in v0.17, in order to be consistent across the PIL and Tensor backends. To suppress this warning, directly pass antialias=True (recommended, future default), antialias=None (current default, which means False for Tensors and True for PIL), or antialias=False (only works on Tensors - PIL will still use antialiasing). This also applies if you are using the inference transforms from the models weights: update the call to weights.transforms(antialias=True).\n",
            "  warnings.warn(\n"
          ]
        },
        {
          "output_type": "error",
          "ename": "RuntimeError",
          "evalue": "ignored",
          "traceback": [
            "\u001b[0;31m---------------------------------------------------------------------------\u001b[0m",
            "\u001b[0;31mRuntimeError\u001b[0m                              Traceback (most recent call last)",
            "\u001b[0;32m<ipython-input-13-13a633a7c9e8>\u001b[0m in \u001b[0;36m<cell line: 2>\u001b[0;34m()\u001b[0m\n\u001b[1;32m      1\u001b[0m \u001b[0;31m# Train Network\u001b[0m\u001b[0;34m\u001b[0m\u001b[0;34m\u001b[0m\u001b[0m\n\u001b[0;32m----> 2\u001b[0;31m losses, val_losses, train_accs, test_accs = train(\n\u001b[0m\u001b[1;32m      3\u001b[0m     \u001b[0mmodel\u001b[0m\u001b[0;34m=\u001b[0m\u001b[0mvery_large_width_cnn\u001b[0m\u001b[0;34m,\u001b[0m  \u001b[0;31m# Replace efficientnet_b1 with very_large_width_cnn\u001b[0m\u001b[0;34m\u001b[0m\u001b[0;34m\u001b[0m\u001b[0m\n\u001b[1;32m      4\u001b[0m     \u001b[0mloss_fn\u001b[0m\u001b[0;34m=\u001b[0m\u001b[0mloss_function\u001b[0m\u001b[0;34m,\u001b[0m\u001b[0;34m\u001b[0m\u001b[0;34m\u001b[0m\u001b[0m\n\u001b[1;32m      5\u001b[0m     \u001b[0moptimizer\u001b[0m\u001b[0;34m=\u001b[0m\u001b[0moptimizer\u001b[0m\u001b[0;34m,\u001b[0m\u001b[0;34m\u001b[0m\u001b[0;34m\u001b[0m\u001b[0m\n",
            "\u001b[0;32m<ipython-input-12-34eb1cf31273>\u001b[0m in \u001b[0;36mtrain\u001b[0;34m(model, loss_fn, optimizer, train_loader, test_loader, batch_size, num_epochs, device)\u001b[0m\n\u001b[1;32m     71\u001b[0m         \u001b[0mend_time\u001b[0m \u001b[0;34m=\u001b[0m \u001b[0mtime\u001b[0m\u001b[0;34m.\u001b[0m\u001b[0mtime\u001b[0m\u001b[0;34m(\u001b[0m\u001b[0;34m)\u001b[0m\u001b[0;34m\u001b[0m\u001b[0;34m\u001b[0m\u001b[0m\n\u001b[1;32m     72\u001b[0m         \u001b[0mloss\u001b[0m \u001b[0;34m=\u001b[0m \u001b[0msum\u001b[0m\u001b[0;34m(\u001b[0m\u001b[0mepoch_loss\u001b[0m\u001b[0;34m)\u001b[0m \u001b[0;34m/\u001b[0m \u001b[0mlen\u001b[0m\u001b[0;34m(\u001b[0m\u001b[0mepoch_loss\u001b[0m\u001b[0;34m)\u001b[0m\u001b[0;34m\u001b[0m\u001b[0;34m\u001b[0m\u001b[0m\n\u001b[0;32m---> 73\u001b[0;31m         \u001b[0mtrain_acc\u001b[0m\u001b[0;34m,\u001b[0m \u001b[0m_\u001b[0m \u001b[0;34m=\u001b[0m \u001b[0mpartial_test_accuracy\u001b[0m\u001b[0;34m(\u001b[0m\u001b[0mmodel\u001b[0m\u001b[0;34m,\u001b[0m \u001b[0mtrain_loader\u001b[0m\u001b[0;34m,\u001b[0m \u001b[0mdevice\u001b[0m\u001b[0;34m,\u001b[0m \u001b[0mloss_fn\u001b[0m\u001b[0;34m)\u001b[0m\u001b[0;34m\u001b[0m\u001b[0;34m\u001b[0m\u001b[0m\n\u001b[0m\u001b[1;32m     74\u001b[0m         \u001b[0mtest_acc\u001b[0m\u001b[0;34m,\u001b[0m \u001b[0mval_loss\u001b[0m \u001b[0;34m=\u001b[0m \u001b[0mpartial_test_accuracy\u001b[0m\u001b[0;34m(\u001b[0m\u001b[0mmodel\u001b[0m\u001b[0;34m,\u001b[0m \u001b[0mtest_loader\u001b[0m\u001b[0;34m,\u001b[0m \u001b[0mdevice\u001b[0m\u001b[0;34m,\u001b[0m \u001b[0mloss_fn\u001b[0m\u001b[0;34m)\u001b[0m\u001b[0;34m\u001b[0m\u001b[0;34m\u001b[0m\u001b[0m\n\u001b[1;32m     75\u001b[0m         \u001b[0mlosses\u001b[0m\u001b[0;34m.\u001b[0m\u001b[0mappend\u001b[0m\u001b[0;34m(\u001b[0m\u001b[0mloss\u001b[0m\u001b[0;34m)\u001b[0m\u001b[0;34m\u001b[0m\u001b[0;34m\u001b[0m\u001b[0m\n",
            "\u001b[0;32m<ipython-input-12-34eb1cf31273>\u001b[0m in \u001b[0;36mpartial_test_accuracy\u001b[0;34m(model, test_loader, device, loss_fn)\u001b[0m\n\u001b[1;32m     22\u001b[0m         \u001b[0mi\u001b[0m \u001b[0;34m=\u001b[0m \u001b[0;36m0\u001b[0m\u001b[0;34m\u001b[0m\u001b[0;34m\u001b[0m\u001b[0m\n\u001b[1;32m     23\u001b[0m         \u001b[0;32mfor\u001b[0m \u001b[0mtest_data\u001b[0m \u001b[0;32min\u001b[0m \u001b[0mtest_loader\u001b[0m\u001b[0;34m:\u001b[0m\u001b[0;34m\u001b[0m\u001b[0;34m\u001b[0m\u001b[0m\n\u001b[0;32m---> 24\u001b[0;31m             \u001b[0mimages\u001b[0m\u001b[0;34m,\u001b[0m \u001b[0mlabels\u001b[0m \u001b[0;34m=\u001b[0m \u001b[0mtest_data\u001b[0m\u001b[0;34m[\u001b[0m\u001b[0;36m0\u001b[0m\u001b[0;34m]\u001b[0m\u001b[0;34m.\u001b[0m\u001b[0mcuda\u001b[0m\u001b[0;34m(\u001b[0m\u001b[0;34m)\u001b[0m\u001b[0;34m,\u001b[0m \u001b[0mtest_data\u001b[0m\u001b[0;34m[\u001b[0m\u001b[0;36m1\u001b[0m\u001b[0;34m]\u001b[0m\u001b[0;34m.\u001b[0m\u001b[0mcuda\u001b[0m\u001b[0;34m(\u001b[0m\u001b[0;34m)\u001b[0m\u001b[0;34m\u001b[0m\u001b[0;34m\u001b[0m\u001b[0m\n\u001b[0m\u001b[1;32m     25\u001b[0m             \u001b[0moutputs\u001b[0m \u001b[0;34m=\u001b[0m \u001b[0mmodel\u001b[0m\u001b[0;34m(\u001b[0m\u001b[0mimages\u001b[0m\u001b[0;34m)\u001b[0m\u001b[0;34m\u001b[0m\u001b[0;34m\u001b[0m\u001b[0m\n\u001b[1;32m     26\u001b[0m             \u001b[0m_\u001b[0m\u001b[0;34m,\u001b[0m \u001b[0mpredicted\u001b[0m \u001b[0;34m=\u001b[0m \u001b[0mtorch\u001b[0m\u001b[0;34m.\u001b[0m\u001b[0mmax\u001b[0m\u001b[0;34m(\u001b[0m\u001b[0moutputs\u001b[0m\u001b[0;34m.\u001b[0m\u001b[0mdata\u001b[0m\u001b[0;34m,\u001b[0m \u001b[0;36m1\u001b[0m\u001b[0;34m)\u001b[0m\u001b[0;34m\u001b[0m\u001b[0;34m\u001b[0m\u001b[0m\n",
            "\u001b[0;32m/usr/local/lib/python3.10/dist-packages/torch/cuda/__init__.py\u001b[0m in \u001b[0;36m_lazy_init\u001b[0;34m()\u001b[0m\n\u001b[1;32m    296\u001b[0m         \u001b[0;32mif\u001b[0m \u001b[0;34m\"CUDA_MODULE_LOADING\"\u001b[0m \u001b[0;32mnot\u001b[0m \u001b[0;32min\u001b[0m \u001b[0mos\u001b[0m\u001b[0;34m.\u001b[0m\u001b[0menviron\u001b[0m\u001b[0;34m:\u001b[0m\u001b[0;34m\u001b[0m\u001b[0;34m\u001b[0m\u001b[0m\n\u001b[1;32m    297\u001b[0m             \u001b[0mos\u001b[0m\u001b[0;34m.\u001b[0m\u001b[0menviron\u001b[0m\u001b[0;34m[\u001b[0m\u001b[0;34m\"CUDA_MODULE_LOADING\"\u001b[0m\u001b[0;34m]\u001b[0m \u001b[0;34m=\u001b[0m \u001b[0;34m\"LAZY\"\u001b[0m\u001b[0;34m\u001b[0m\u001b[0;34m\u001b[0m\u001b[0m\n\u001b[0;32m--> 298\u001b[0;31m         \u001b[0mtorch\u001b[0m\u001b[0;34m.\u001b[0m\u001b[0m_C\u001b[0m\u001b[0;34m.\u001b[0m\u001b[0m_cuda_init\u001b[0m\u001b[0;34m(\u001b[0m\u001b[0;34m)\u001b[0m\u001b[0;34m\u001b[0m\u001b[0;34m\u001b[0m\u001b[0m\n\u001b[0m\u001b[1;32m    299\u001b[0m         \u001b[0;31m# Some of the queued calls may reentrantly call _lazy_init();\u001b[0m\u001b[0;34m\u001b[0m\u001b[0;34m\u001b[0m\u001b[0m\n\u001b[1;32m    300\u001b[0m         \u001b[0;31m# we need to just return without initializing in that case.\u001b[0m\u001b[0;34m\u001b[0m\u001b[0;34m\u001b[0m\u001b[0m\n",
            "\u001b[0;31mRuntimeError\u001b[0m: Found no NVIDIA driver on your system. Please check that you have an NVIDIA GPU and installed a driver from http://www.nvidia.com/Download/index.aspx"
          ]
        }
      ],
      "source": [
        "# Train Network\n",
        "losses, val_losses, train_accs, test_accs = train(\n",
        "    model=very_large_width_cnn,  # Replace efficientnet_b1 with very_large_width_cnn\n",
        "    loss_fn=loss_function,\n",
        "    optimizer=optimizer,\n",
        "    train_loader=train_loader,\n",
        "    test_loader=test_loader,\n",
        "    batch_size=batch_size,\n",
        "    num_epochs=num_epochs,\n",
        "    device=device\n",
        ")\n",
        "epochs = np.linspace(0, num_epochs, len(losses))\n",
        "\n",
        "plot_learning_curve(epochs, losses, val_losses, train_accs, test_accs, title=\"128cnn\")\n",
        "print(test_accuracy(very_large_width_cnn, test_loader, device))"
      ]
    },
    {
      "cell_type": "code",
      "source": [
        "def train_next_stage(model, loss_fn, optimizer, train_loader, test_loader, batch_size, num_epochs, device, start_epoch=0):\n",
        "    losses = []\n",
        "    train_accs = []\n",
        "    test_accs = []\n",
        "    val_losses = []\n",
        "\n",
        "    epoch_loss = []\n",
        "    start_time = time.time()\n",
        "    for epoch in range(start_epoch, num_epochs):\n",
        "        # Iterate through the training dataset\n",
        "        for i, data in enumerate(train_loader, 0):\n",
        "            # Load images and labels and move them to the device\n",
        "            images, labels = data[0].to(device), data[1].to(device)\n",
        "            # Zero out any gradients\n",
        "            optimizer.zero_grad()\n",
        "\n",
        "            # Forward pass\n",
        "            outputs = model(images)\n",
        "\n",
        "            # Calculate the loss\n",
        "            loss = loss_fn(outputs, labels)\n",
        "\n",
        "            # Backward pass\n",
        "            loss.backward()\n",
        "\n",
        "            # Update model parameters\n",
        "            optimizer.step()\n",
        "\n",
        "            # Print statistics every 100 iterations\n",
        "            epoch_loss.append(loss.item())\n",
        "            if (i+1) % 50 == 0:\n",
        "                print(f\"Step: [{i+1}/{len(train_loader)}]\")\n",
        "\n",
        "\n",
        "        end_time = time.time()\n",
        "        loss = sum(epoch_loss) / len(epoch_loss)\n",
        "        train_acc, _ = partial_test_accuracy(model, train_loader, device, loss_fn)\n",
        "        test_acc, val_loss = partial_test_accuracy(model, test_loader, device, loss_fn)\n",
        "        losses.append(loss)\n",
        "        val_losses.append(val_loss)\n",
        "        train_accs.append(train_acc)\n",
        "        test_accs.append(test_acc)\n",
        "\n",
        "        print('Epoch [{}/{}], Loss: {:.4f}, Val Loss: {:.4f}, Train Accuracy: {:.4f}, Test Accuracy: {:.4f}, Runtime: {:.4f} s'\n",
        "                        .format(epoch+1, num_epochs, loss, val_loss, train_acc, test_acc, end_time - start_time))\n",
        "\n",
        "        epoch_loss = []\n",
        "        start_time = time.time()\n",
        "\n",
        "        epoch_axis = np.linspace(0, epoch, len(losses))\n",
        "        plot_learning_curve(epoch_axis, losses, val_losses, train_accs, test_accs, title=f\"Epoch {epoch+1}\")\n",
        "    return losses, val_losses, train_accs, test_accs"
      ],
      "metadata": {
        "id": "KflHCvMultO-"
      },
      "id": "KflHCvMultO-",
      "execution_count": null,
      "outputs": []
    },
    {
      "cell_type": "code",
      "source": [
        "losses_2, val_losses_2, train_accs_2, test_accs_2 = train_next_stage(model=resnet, loss_fn=loss_function, optimizer=optimizer, train_loader=train_loader, test_loader=test_loader,\n",
        "               batch_size=batch_size, num_epochs=30, device=device, start_epoch=num_epochs)\n",
        "losses.extend(losses_2)\n",
        "val_losses.extend(val_losses_2)\n",
        "train_accs.extend(train_accs_2)\n",
        "test_accs.extend(test_accs_2)\n",
        "epochs = np.linspace(0, num_epochs, len(losses))\n",
        "\n",
        "plot_learning_curve(epochs, losses, val_losses, train_accs, test_accs, title=\"Resnet 50\")\n",
        "print(test_accuracy(resnet, test_loader, device))"
      ],
      "metadata": {
        "id": "Fs04U8zHmUeD"
      },
      "id": "Fs04U8zHmUeD",
      "execution_count": null,
      "outputs": []
    },
    {
      "cell_type": "code",
      "source": [
        "device = torch.device('cuda:0' if torch.cuda.is_available() else 'cpu')\n"
      ],
      "metadata": {
        "id": "SeHeyncqyXQO"
      },
      "id": "SeHeyncqyXQO",
      "execution_count": null,
      "outputs": []
    },
    {
      "cell_type": "code",
      "source": [
        "# Instantiate Pretrained ResNet18\n",
        "'''\n",
        "resnet18 = models.resnet18(pretrained=True)\n",
        "\n",
        "# Modify final layer\n",
        "resnet18.fc = nn.Linear(in_features=512, out_features=len(classes), bias=True)\n",
        "\n",
        "# Load onto GPU\n",
        "device = torch.device('cuda:0' if torch.cuda.is_available() else 'cpu')\n",
        "resnet18.to(device)\n",
        "\n",
        "# View Model to validate\n",
        "print(resnet18)\n",
        "'''"
      ],
      "metadata": {
        "id": "nGL3E3lqh3IA"
      },
      "id": "nGL3E3lqh3IA",
      "execution_count": null,
      "outputs": []
    },
    {
      "cell_type": "code",
      "source": [
        "# Train Network\n",
        "'''\n",
        "losses = train(model=resnet18, loss_fn=loss_function, optimizer=optimizer, train_loader=train_loader,\n",
        "      batch_size=batch_size, num_epochs=num_epochs)\n",
        "epochs = np.arange(1, num_epochs+1)\n",
        "\n",
        "plot_learning_curve(epochs, losses)\n",
        "plt.show()\n",
        "'''"
      ],
      "metadata": {
        "id": "CjGBeyy6hQN4"
      },
      "id": "CjGBeyy6hQN4",
      "execution_count": null,
      "outputs": []
    },
    {
      "cell_type": "markdown",
      "id": "8287fe6d",
      "metadata": {
        "id": "8287fe6d"
      },
      "source": [
        "## 4) Evaluate (on Test Set)"
      ]
    },
    {
      "cell_type": "code",
      "source": [
        "def test_accuracy(model, test_loader, input_size, device, is_conv=False):\n",
        "    model.to(device)\n",
        "    correct = 0\n",
        "    total = 0\n",
        "    with torch.no_grad():\n",
        "        for test_data in test_loader:\n",
        "            images, labels = test_data[0].to(device), test_data[1].to(device)\n",
        "            if not is_conv:\n",
        "                images = images.view(-1, input_size)\n",
        "            outputs = model(images)\n",
        "            _, predicted = torch.max(outputs.data, 1)\n",
        "            total += labels.size(0)\n",
        "            correct += (predicted == labels).sum().item()\n",
        "    print('Accuracy: %d %%' % (100 * correct / total))"
      ],
      "metadata": {
        "id": "9duKlFv5PE23"
      },
      "id": "9duKlFv5PE23",
      "execution_count": null,
      "outputs": []
    },
    {
      "cell_type": "code",
      "execution_count": null,
      "id": "c6cd42f8",
      "metadata": {
        "id": "c6cd42f8"
      },
      "outputs": [],
      "source": [
        "# Test Accuracy\n",
        "test_accuracy(model=efficientnet, test_loader=test_loader, input_size=1000, device=device, is_conv=True)"
      ]
    },
    {
      "cell_type": "code",
      "source": [
        "torch.save(efficientnet.state_dict(), \"/content/drive/MyDrive/EEC 174 Lab3/stanford_cars_eec174/Efficientnet_weight.pth\")"
      ],
      "metadata": {
        "id": "9z1JC56uuftc"
      },
      "id": "9z1JC56uuftc",
      "execution_count": null,
      "outputs": []
    },
    {
      "cell_type": "markdown",
      "source": [
        "## 5) Report\n",
        "\n",
        "Please write a report discussing all your choices and procedure to implement your vehicle classifier. In your report, include all your choices (i.e. hyperparameters, lr, models, loss, optimizer) and explain why you made those choices to achieve your performance. Your report must be thorough and comprehensive, please discuss fully how you were able to obtain a high performance."
      ],
      "metadata": {
        "id": "3EB0LqCMieIh"
      },
      "id": "3EB0LqCMieIh"
    },
    {
      "cell_type": "code",
      "source": [],
      "metadata": {
        "id": "liGaUkuqiqd4"
      },
      "id": "liGaUkuqiqd4",
      "execution_count": null,
      "outputs": []
    }
  ],
  "metadata": {
    "kernelspec": {
      "display_name": "Python 3",
      "name": "python3"
    },
    "language_info": {
      "codemirror_mode": {
        "name": "ipython",
        "version": 3
      },
      "file_extension": ".py",
      "mimetype": "text/x-python",
      "name": "python",
      "nbconvert_exporter": "python",
      "pygments_lexer": "ipython3",
      "version": "3.8.11"
    },
    "colab": {
      "provenance": []
    }
  },
  "nbformat": 4,
  "nbformat_minor": 5
}